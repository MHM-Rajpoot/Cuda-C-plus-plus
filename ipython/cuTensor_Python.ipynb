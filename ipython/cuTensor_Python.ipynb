{
  "nbformat": 4,
  "nbformat_minor": 0,
  "metadata": {
    "colab": {
      "provenance": [],
      "gpuType": "T4"
    },
    "kernelspec": {
      "name": "python3",
      "display_name": "Python 3"
    },
    "language_info": {
      "name": "python"
    },
    "accelerator": "GPU"
  },
  "cells": [
    {
      "cell_type": "code",
      "execution_count": 2,
      "metadata": {
        "colab": {
          "base_uri": "https://localhost:8080/"
        },
        "id": "dH0R9jOe8YGS",
        "outputId": "18c29635-c7c0-4518-d541-6f93cfb1c5bf"
      },
      "outputs": [
        {
          "output_type": "stream",
          "name": "stdout",
          "text": [
            "Collecting cutensor-cu12\n",
            "  Downloading cutensor_cu12-2.3.1-py3-none-manylinux2014_x86_64.whl.metadata (2.2 kB)\n",
            "Downloading cutensor_cu12-2.3.1-py3-none-manylinux2014_x86_64.whl (237.1 MB)\n",
            "\u001b[2K   \u001b[90m━━━━━━━━━━━━━━━━━━━━━━━━━━━━━━━━━━━━━━━━\u001b[0m \u001b[32m237.1/237.1 MB\u001b[0m \u001b[31m5.2 MB/s\u001b[0m eta \u001b[36m0:00:00\u001b[0m\n",
            "\u001b[?25hInstalling collected packages: cutensor-cu12\n",
            "Successfully installed cutensor-cu12-2.3.1\n"
          ]
        }
      ],
      "source": [
        "!pip install cutensor-cu12"
      ]
    },
    {
      "cell_type": "code",
      "source": [
        "!pip install cupy-cuda12x"
      ],
      "metadata": {
        "colab": {
          "base_uri": "https://localhost:8080/"
        },
        "id": "lJ2hQ7p1Eh4T",
        "outputId": "c3d70175-30c6-4cc5-b273-9f303fb34462"
      },
      "execution_count": 14,
      "outputs": [
        {
          "output_type": "stream",
          "name": "stdout",
          "text": [
            "Requirement already satisfied: cupy-cuda12x in /usr/local/lib/python3.12/dist-packages (13.3.0)\n",
            "Requirement already satisfied: numpy<2.3,>=1.22 in /usr/local/lib/python3.12/dist-packages (from cupy-cuda12x) (2.0.2)\n",
            "Requirement already satisfied: fastrlock>=0.5 in /usr/local/lib/python3.12/dist-packages (from cupy-cuda12x) (0.8.3)\n"
          ]
        }
      ]
    },
    {
      "cell_type": "code",
      "source": [
        "import cupy as cp\n",
        "import cupyx as cpx"
      ],
      "metadata": {
        "id": "kgWciFQ9-1i_"
      },
      "execution_count": 15,
      "outputs": []
    },
    {
      "cell_type": "markdown",
      "source": [
        "1. Scalars, Vectors, Matrices, Tensors"
      ],
      "metadata": {
        "id": "CkVoUyRu_C_x"
      }
    },
    {
      "cell_type": "code",
      "source": [
        "scalar = cp.array(3.0)  # scalar\n",
        "vector = cp.array([1.0, 2.0, 3.0])  # vector\n",
        "matrix = cp.array([[1,2,3],[4,5,6],[7,8,9]], dtype=cp.float32)  # 3x3 matrix\n",
        "tensor = cp.ones((3,3,3), dtype=cp.float32)  # 3D tensor\n",
        "\n",
        "print(\"Scalar:\", scalar)\n",
        "print(\"Vector:\", vector)\n",
        "print(\"Matrix:\\n\", matrix)\n",
        "print(\"Tensor shape:\", tensor.shape, \"\\n\")"
      ],
      "metadata": {
        "id": "9BDBWLu-_BG-",
        "colab": {
          "base_uri": "https://localhost:8080/"
        },
        "outputId": "ffca1b82-979b-4c6b-dffc-9fc74b0c6748"
      },
      "execution_count": 5,
      "outputs": [
        {
          "output_type": "stream",
          "name": "stdout",
          "text": [
            "Scalar: 3.0\n",
            "Vector: [1. 2. 3.]\n",
            "Matrix:\n",
            " [[1. 2. 3.]\n",
            " [4. 5. 6.]\n",
            " [7. 8. 9.]]\n",
            "Tensor shape: (3, 3, 3) \n",
            "\n"
          ]
        }
      ]
    },
    {
      "cell_type": "markdown",
      "source": [
        "2. Vector operations\n"
      ],
      "metadata": {
        "id": "RgQ6b1ZM_IgD"
      }
    },
    {
      "cell_type": "code",
      "source": [
        "v1 = cp.array([1,2,3], dtype=cp.float32)\n",
        "v2 = cp.array([4,5,6], dtype=cp.float32)\n",
        "\n",
        "v_add = v1 + v2\n",
        "v_sub = v1 - v2\n",
        "v_scalar_mul = 2 * v1\n",
        "v_dot = cp.dot(v1, v2)\n",
        "v_cross = cp.cross(v1, v2)\n",
        "\n",
        "print(\"Vector Addition:\", v_add)\n",
        "print(\"Vector Subtraction:\", v_sub)\n",
        "print(\"Scalar Multiplication:\", v_scalar_mul)\n",
        "print(\"Dot Product:\", v_dot)\n",
        "print(\"Cross Product:\", v_cross, \"\\n\")"
      ],
      "metadata": {
        "id": "_ufHtniK_MmR",
        "colab": {
          "base_uri": "https://localhost:8080/"
        },
        "outputId": "46b3e769-44bf-4ed2-c669-f86ee0ea2705"
      },
      "execution_count": 6,
      "outputs": [
        {
          "output_type": "stream",
          "name": "stdout",
          "text": [
            "Vector Addition: [5. 7. 9.]\n",
            "Vector Subtraction: [-3. -3. -3.]\n",
            "Scalar Multiplication: [2. 4. 6.]\n",
            "Dot Product: 32.0\n",
            "Cross Product: [-3.  6. -3.] \n",
            "\n"
          ]
        }
      ]
    },
    {
      "cell_type": "markdown",
      "source": [
        "3. Matrix Operations"
      ],
      "metadata": {
        "id": "btvp24Gq_tOd"
      }
    },
    {
      "cell_type": "code",
      "source": [
        "A = cp.array([[1,2],[3,4]], dtype=cp.float32)\n",
        "B = cp.array([[5,6],[7,8]], dtype=cp.float32)\n",
        "\n",
        "C_add = A + B\n",
        "C_sub = A - B\n",
        "C_scalar = 2 * A\n",
        "C_mult = cp.matmul(A,B)\n",
        "C_transpose = A.T\n",
        "C_identity = cp.eye(2, dtype=cp.float32)\n",
        "C_inverse = cp.linalg.inv(A)\n",
        "C_det = cp.linalg.det(A)\n",
        "C_normalized = A / cp.linalg.norm(A, axis=0)  # normalize columns\n",
        "\n",
        "print(\"Matrix Addition:\\n\", C_add)\n",
        "print(\"Matrix Subtraction:\\n\", C_sub)\n",
        "print(\"Matrix Scalar Multiplication:\\n\", C_scalar)\n",
        "print(\"Matrix Multiplication:\\n\", C_mult)\n",
        "print(\"Matrix Transpose:\\n\", C_transpose)\n",
        "print(\"Identity Matrix:\\n\", C_identity)\n",
        "print(\"Inverse Matrix:\\n\", C_inverse)\n",
        "print(\"Determinant:\", C_det)\n",
        "print(\"Normalized Matrix (columns):\\n\", C_normalized, \"\\n\")"
      ],
      "metadata": {
        "id": "l4rWkjsq_T-D",
        "colab": {
          "base_uri": "https://localhost:8080/"
        },
        "outputId": "b09a7957-c7b1-4a5f-f48d-9d86703980fc"
      },
      "execution_count": 7,
      "outputs": [
        {
          "output_type": "stream",
          "name": "stdout",
          "text": [
            "Matrix Addition:\n",
            " [[ 6.  8.]\n",
            " [10. 12.]]\n",
            "Matrix Subtraction:\n",
            " [[-4. -4.]\n",
            " [-4. -4.]]\n",
            "Matrix Scalar Multiplication:\n",
            " [[2. 4.]\n",
            " [6. 8.]]\n",
            "Matrix Multiplication:\n",
            " [[19. 22.]\n",
            " [43. 50.]]\n",
            "Matrix Transpose:\n",
            " [[1. 3.]\n",
            " [2. 4.]]\n",
            "Identity Matrix:\n",
            " [[1. 0.]\n",
            " [0. 1.]]\n",
            "Inverse Matrix:\n",
            " [[-2.   1. ]\n",
            " [ 1.5 -0.5]]\n",
            "Determinant: -2.0\n",
            "Normalized Matrix (columns):\n",
            " [[0.31622776 0.4472136 ]\n",
            " [0.94868326 0.8944272 ]] \n",
            "\n"
          ]
        }
      ]
    },
    {
      "cell_type": "markdown",
      "source": [
        "4. Norms & Distance Measures\n"
      ],
      "metadata": {
        "id": "1x1C9ucp_x3j"
      }
    },
    {
      "cell_type": "code",
      "source": [
        "x = cp.array([1,2,3], dtype=cp.float32)\n",
        "y = cp.array([4,5,6], dtype=cp.float32)\n",
        "\n",
        "euclidean = cp.linalg.norm(x-y)\n",
        "manhattan = cp.linalg.norm(x-y, ord=1)\n",
        "cosine_sim = cp.dot(x,y) / (cp.linalg.norm(x) * cp.linalg.norm(y))\n",
        "\n",
        "print(\"Euclidean Distance:\", euclidean)\n",
        "print(\"Manhattan Distance:\", manhattan)\n",
        "print(\"Cosine Similarity:\", cosine_sim, \"\\n\")"
      ],
      "metadata": {
        "id": "KhHTn0mZ_XXM",
        "colab": {
          "base_uri": "https://localhost:8080/"
        },
        "outputId": "9727a9f5-8d75-4f62-f974-3501a051f191"
      },
      "execution_count": 8,
      "outputs": [
        {
          "output_type": "stream",
          "name": "stdout",
          "text": [
            "Euclidean Distance: 5.196152\n",
            "Manhattan Distance: 9.0\n",
            "Cosine Similarity: 0.9746318 \n",
            "\n"
          ]
        }
      ]
    },
    {
      "cell_type": "markdown",
      "source": [
        "5. Systems of Linear Equations"
      ],
      "metadata": {
        "id": "8n6AXuiU_03c"
      }
    },
    {
      "cell_type": "code",
      "source": [
        "A_sys = cp.array([[3,1],[1,2]], dtype=cp.float32)\n",
        "b_sys = cp.array([9,8], dtype=cp.float32)\n",
        "x_sys = cp.linalg.solve(A_sys, b_sys)\n",
        "\n",
        "print(\"Solution of Ax=b:\", x_sys, \"\\n\")"
      ],
      "metadata": {
        "id": "5-BvCLfQ_aAt",
        "colab": {
          "base_uri": "https://localhost:8080/"
        },
        "outputId": "6214869d-83b6-437d-b4b3-5dbf8f229f48"
      },
      "execution_count": 9,
      "outputs": [
        {
          "output_type": "stream",
          "name": "stdout",
          "text": [
            "Solution of Ax=b: [2. 3.] \n",
            "\n"
          ]
        }
      ]
    },
    {
      "cell_type": "markdown",
      "source": [
        "6. Linear Transformations"
      ],
      "metadata": {
        "id": "L5vzCk0i_3S4"
      }
    },
    {
      "cell_type": "code",
      "source": [
        "vec = cp.array([1,0], dtype=cp.float32)\n",
        "rot_matrix = cp.array([[0, -1],[1,0]], dtype=cp.float32)  # 90 degree rotation\n",
        "vec_rotated = cp.matmul(rot_matrix, vec)\n",
        "print(\"Linear Transformation (Rotation) of vector:\", vec_rotated, \"\\n\")"
      ],
      "metadata": {
        "id": "Gua9sw8r_cLw",
        "colab": {
          "base_uri": "https://localhost:8080/"
        },
        "outputId": "c0202130-4c2b-42c3-86e2-6e8fc2602ca9"
      },
      "execution_count": 10,
      "outputs": [
        {
          "output_type": "stream",
          "name": "stdout",
          "text": [
            "Linear Transformation (Rotation) of vector: [0. 1.] \n",
            "\n"
          ]
        }
      ]
    },
    {
      "cell_type": "markdown",
      "source": [
        "7. Eigenvalues and Eigenvectors"
      ],
      "metadata": {
        "id": "7ClMeH2D_6DK"
      }
    },
    {
      "cell_type": "code",
      "source": [
        "eig_vals, eig_vecs = cp.linalg.eigh(cp.array([[2,0],[0,3]], dtype=cp.float32))\n",
        "print(\"Eigenvalues:\", eig_vals)\n",
        "print(\"Eigenvectors:\\n\", eig_vecs, \"\\n\")"
      ],
      "metadata": {
        "id": "gSk_7xRb_eiQ",
        "colab": {
          "base_uri": "https://localhost:8080/"
        },
        "outputId": "036f7eb3-22c3-454b-8151-cfc32a1e14ce"
      },
      "execution_count": 11,
      "outputs": [
        {
          "output_type": "stream",
          "name": "stdout",
          "text": [
            "Eigenvalues: [2. 3.]\n",
            "Eigenvectors:\n",
            " [[1. 0.]\n",
            " [0. 1.]] \n",
            "\n"
          ]
        }
      ]
    },
    {
      "cell_type": "markdown",
      "source": [
        "8. Matrix Decompositions"
      ],
      "metadata": {
        "id": "xqaIR_9W_88C"
      }
    },
    {
      "cell_type": "code",
      "source": [
        "# P, L, U = cpx.scipy.linalg.lu(cp.array([[4,3],[6,3]], dtype=cp.float32))\n",
        "# print(\"LU Decomposition L:\\n\", L)\n",
        "# print(\"LU Decomposition U:\\n\", U)"
      ],
      "metadata": {
        "id": "0SkdDOopEA7f"
      },
      "execution_count": 16,
      "outputs": []
    },
    {
      "cell_type": "code",
      "source": [
        "# QR decomposition\n",
        "Q, R = cp.linalg.qr(cp.array([[1,2],[3,4]], dtype=cp.float32))\n",
        "print(\"QR Decomposition Q:\\n\", Q)\n",
        "print(\"QR Decomposition R:\\n\", R)"
      ],
      "metadata": {
        "id": "MzEy9XF4_i5o",
        "colab": {
          "base_uri": "https://localhost:8080/"
        },
        "outputId": "f0724671-a210-40fb-cbf1-3dde573c67a6"
      },
      "execution_count": 17,
      "outputs": [
        {
          "output_type": "stream",
          "name": "stdout",
          "text": [
            "QR Decomposition Q:\n",
            " [[-0.3162278  -0.9486833 ]\n",
            " [-0.9486833   0.31622773]]\n",
            "QR Decomposition R:\n",
            " [[-3.1622777 -4.4271884]\n",
            " [ 0.        -0.6324552]]\n"
          ]
        }
      ]
    },
    {
      "cell_type": "code",
      "source": [
        "# SVD\n",
        "U_svd, S_svd, Vh_svd = cp.linalg.svd(cp.array([[1,2],[3,4]], dtype=cp.float32))\n",
        "print(\"SVD U:\\n\", U_svd)\n",
        "print(\"SVD S:\\n\", S_svd)\n",
        "print(\"SVD V^T:\\n\", Vh_svd, \"\\n\")"
      ],
      "metadata": {
        "id": "K_oTI6sp_ksd",
        "colab": {
          "base_uri": "https://localhost:8080/"
        },
        "outputId": "2283fcce-4fe2-4f4b-91e9-d76af74c2185"
      },
      "execution_count": 18,
      "outputs": [
        {
          "output_type": "stream",
          "name": "stdout",
          "text": [
            "SVD U:\n",
            " [[-0.4045536  0.9145143]\n",
            " [-0.9145143 -0.4045536]]\n",
            "SVD S:\n",
            " [5.4649854 0.3659662]\n",
            "SVD V^T:\n",
            " [[-0.5760484  -0.81741554]\n",
            " [-0.81741554  0.57604843]] \n",
            "\n"
          ]
        }
      ]
    },
    {
      "cell_type": "markdown",
      "source": [
        "9. Orthogonality & Projections"
      ],
      "metadata": {
        "id": "OY5bTDvtABJg"
      }
    },
    {
      "cell_type": "code",
      "source": [
        "u = cp.array([1,0], dtype=cp.float32)\n",
        "v = cp.array([0,1], dtype=cp.float32)\n",
        "dot_uv = cp.dot(u,v)\n",
        "proj_u_on_v = (cp.dot(u,v)/cp.dot(v,v))*v\n",
        "print(\"Dot Product of orthogonal vectors:\", dot_uv)\n",
        "print(\"Projection of u onto v:\", proj_u_on_v, \"\\n\")"
      ],
      "metadata": {
        "id": "s8ePscFu_mlR",
        "colab": {
          "base_uri": "https://localhost:8080/"
        },
        "outputId": "1fc2b399-bb9b-4f31-8484-bb17976448c1"
      },
      "execution_count": 19,
      "outputs": [
        {
          "output_type": "stream",
          "name": "stdout",
          "text": [
            "Dot Product of orthogonal vectors: 0.0\n",
            "Projection of u onto v: [0. 0.] \n",
            "\n"
          ]
        }
      ]
    },
    {
      "cell_type": "markdown",
      "source": [
        "10. Vector Spaces & Subspaces"
      ],
      "metadata": {
        "id": "pB4DoaPCAGw1"
      }
    },
    {
      "cell_type": "code",
      "source": [
        "import scipy as sp\n",
        "\n",
        "A_sub = cp.array([[1,2,3],[0,1,4],[1,3,7]], dtype=cp.float32)\n",
        "rank_A = cp.linalg.matrix_rank(A_sub)\n",
        "null_space = sp.linalg.null_space(A_sub.get())  # get() brings data to CPU for null space\n",
        "print(\"Rank of A:\", rank_A)\n",
        "print(\"Null space of A:\\n\", null_space, \"\\n\")"
      ],
      "metadata": {
        "id": "HWLRq4lv_oeF",
        "colab": {
          "base_uri": "https://localhost:8080/"
        },
        "outputId": "fe48e128-80d9-4be6-dcf5-b120436351aa"
      },
      "execution_count": 20,
      "outputs": [
        {
          "output_type": "stream",
          "name": "stdout",
          "text": [
            "Rank of A: 2\n",
            "Null space of A:\n",
            " [[ 0.7715168 ]\n",
            " [-0.6172133 ]\n",
            " [ 0.15430336]] \n",
            "\n"
          ]
        }
      ]
    },
    {
      "cell_type": "markdown",
      "source": [
        "11. Special Matrices"
      ],
      "metadata": {
        "id": "hG0d40YSAKDe"
      }
    },
    {
      "cell_type": "code",
      "source": [
        "diag_matrix = cp.diag(cp.array([1,2,3], dtype=cp.float32))\n",
        "sym_matrix = cp.array([[2,1],[1,2]], dtype=cp.float32)\n",
        "orth_matrix = cp.array([[1,0],[0,-1]], dtype=cp.float32)\n",
        "sparse_matrix = cp.array([[0,0,3],[0,0,0],[4,0,0]], dtype=cp.float32)\n",
        "\n",
        "print(\"Diagonal Matrix:\\n\", diag_matrix)\n",
        "print(\"Symmetric Matrix:\\n\", sym_matrix)\n",
        "print(\"Orthogonal Matrix:\\n\", orth_matrix)\n",
        "print(\"Sparse Matrix:\\n\", sparse_matrix)"
      ],
      "metadata": {
        "id": "ekVGCMtg8ald",
        "colab": {
          "base_uri": "https://localhost:8080/"
        },
        "outputId": "4c93aba9-bc2c-496b-a7da-468ce4c2967b"
      },
      "execution_count": 21,
      "outputs": [
        {
          "output_type": "stream",
          "name": "stdout",
          "text": [
            "Diagonal Matrix:\n",
            " [[1. 0. 0.]\n",
            " [0. 2. 0.]\n",
            " [0. 0. 3.]]\n",
            "Symmetric Matrix:\n",
            " [[2. 1.]\n",
            " [1. 2.]]\n",
            "Orthogonal Matrix:\n",
            " [[ 1.  0.]\n",
            " [ 0. -1.]]\n",
            "Sparse Matrix:\n",
            " [[0. 0. 3.]\n",
            " [0. 0. 0.]\n",
            " [4. 0. 0.]]\n"
          ]
        }
      ]
    },
    {
      "cell_type": "markdown",
      "source": [
        ".py"
      ],
      "metadata": {
        "id": "vvZHsr4dAhul"
      }
    },
    {
      "cell_type": "code",
      "source": [
        "%%writefile gpu_linear_algebra.py\n",
        "\n",
        "import cupy as cp\n",
        "import scipy as sp\n",
        "\n",
        "print(\"=== Linear Algebra Concepts on GPU using cuTENSOR/cuBLAS (via CuPy) ===\\n\")\n",
        "\n",
        "# 1. Scalars, Vectors, Matrices, Tensors\n",
        "scalar = cp.array(3.0)  # scalar\n",
        "vector = cp.array([1.0, 2.0, 3.0])  # vector\n",
        "matrix = cp.array([[1,2,3],[4,5,6],[7,8,9]], dtype=cp.float32)  # 3x3 matrix\n",
        "tensor = cp.ones((3,3,3), dtype=cp.float32)  # 3D tensor\n",
        "\n",
        "print(\"Scalar:\", scalar)\n",
        "print(\"Vector:\", vector)\n",
        "print(\"Matrix:\\n\", matrix)\n",
        "print(\"Tensor shape:\", tensor.shape, \"\\n\")\n",
        "\n",
        "# 2. Vector operations\n",
        "v1 = cp.array([1,2,3], dtype=cp.float32)\n",
        "v2 = cp.array([4,5,6], dtype=cp.float32)\n",
        "\n",
        "v_add = v1 + v2\n",
        "v_sub = v1 - v2\n",
        "v_scalar_mul = 2 * v1\n",
        "v_dot = cp.dot(v1, v2)\n",
        "v_cross = cp.cross(v1, v2)\n",
        "\n",
        "print(\"Vector Addition:\", v_add)\n",
        "print(\"Vector Subtraction:\", v_sub)\n",
        "print(\"Scalar Multiplication:\", v_scalar_mul)\n",
        "print(\"Dot Product:\", v_dot)\n",
        "print(\"Cross Product:\", v_cross, \"\\n\")\n",
        "\n",
        "# 3. Matrix Operations\n",
        "A = cp.array([[1,2],[3,4]], dtype=cp.float32)\n",
        "B = cp.array([[5,6],[7,8]], dtype=cp.float32)\n",
        "\n",
        "C_add = A + B\n",
        "C_sub = A - B\n",
        "C_scalar = 2 * A\n",
        "C_mult = cp.matmul(A,B)\n",
        "C_transpose = A.T\n",
        "C_identity = cp.eye(2, dtype=cp.float32)\n",
        "C_inverse = cp.linalg.inv(A)\n",
        "C_det = cp.linalg.det(A)\n",
        "C_normalized = A / cp.linalg.norm(A, axis=0)  # normalize columns\n",
        "\n",
        "print(\"Matrix Addition:\\n\", C_add)\n",
        "print(\"Matrix Subtraction:\\n\", C_sub)\n",
        "print(\"Matrix Scalar Multiplication:\\n\", C_scalar)\n",
        "print(\"Matrix Multiplication:\\n\", C_mult)\n",
        "print(\"Matrix Transpose:\\n\", C_transpose)\n",
        "print(\"Identity Matrix:\\n\", C_identity)\n",
        "print(\"Inverse Matrix:\\n\", C_inverse)\n",
        "print(\"Determinant:\", C_det)\n",
        "print(\"Normalized Matrix (columns):\\n\", C_normalized, \"\\n\")\n",
        "\n",
        "# 4. Norms & Distance Measures\n",
        "x = cp.array([1,2,3], dtype=cp.float32)\n",
        "y = cp.array([4,5,6], dtype=cp.float32)\n",
        "\n",
        "euclidean = cp.linalg.norm(x-y)\n",
        "manhattan = cp.linalg.norm(x-y, ord=1)\n",
        "cosine_sim = cp.dot(x,y) / (cp.linalg.norm(x) * cp.linalg.norm(y))\n",
        "\n",
        "print(\"Euclidean Distance:\", euclidean)\n",
        "print(\"Manhattan Distance:\", manhattan)\n",
        "print(\"Cosine Similarity:\", cosine_sim, \"\\n\")\n",
        "\n",
        "# 5. Systems of Linear Equations\n",
        "A_sys = cp.array([[3,1],[1,2]], dtype=cp.float32)\n",
        "b_sys = cp.array([9,8], dtype=cp.float32)\n",
        "x_sys = cp.linalg.solve(A_sys, b_sys)\n",
        "\n",
        "print(\"Solution of Ax=b:\", x_sys, \"\\n\")\n",
        "\n",
        "# 6. Linear Transformations\n",
        "vec = cp.array([1,0], dtype=cp.float32)\n",
        "rot_matrix = cp.array([[0, -1],[1,0]], dtype=cp.float32)  # 90 degree rotation\n",
        "vec_rotated = cp.matmul(rot_matrix, vec)\n",
        "print(\"Linear Transformation (Rotation) of vector:\", vec_rotated, \"\\n\")\n",
        "\n",
        "# 7. Eigenvalues and Eigenvectors\n",
        "eig_vals, eig_vecs = cp.linalg.eigh(cp.array([[2,0],[0,3]], dtype=cp.float32))\n",
        "print(\"Eigenvalues:\", eig_vals)\n",
        "print(\"Eigenvectors:\\n\", eig_vecs, \"\\n\")\n",
        "\n",
        "# 8. Matrix Decompositions\n",
        "# QR decomposition\n",
        "Q, R = cp.linalg.qr(cp.array([[1,2],[3,4]], dtype=cp.float32))\n",
        "print(\"QR Decomposition Q:\\n\", Q)\n",
        "print(\"QR Decomposition R:\\n\", R)\n",
        "\n",
        "# SVD\n",
        "U_svd, S_svd, Vh_svd = cp.linalg.svd(cp.array([[1,2],[3,4]], dtype=cp.float32))\n",
        "print(\"SVD U:\\n\", U_svd)\n",
        "print(\"SVD S:\\n\", S_svd)\n",
        "print(\"SVD V^T:\\n\", Vh_svd, \"\\n\")\n",
        "\n",
        "# 9. Orthogonality & Projections\n",
        "u = cp.array([1,0], dtype=cp.float32)\n",
        "v = cp.array([0,1], dtype=cp.float32)\n",
        "dot_uv = cp.dot(u,v)\n",
        "proj_u_on_v = (cp.dot(u,v)/cp.dot(v,v))*v\n",
        "print(\"Dot Product of orthogonal vectors:\", dot_uv)\n",
        "print(\"Projection of u onto v:\", proj_u_on_v, \"\\n\")\n",
        "\n",
        "# 10. Vector Spaces & Subspaces\n",
        "A_sub = cp.array([[1,2,3],[0,1,4],[1,3,7]], dtype=cp.float32)\n",
        "rank_A = cp.linalg.matrix_rank(A_sub)\n",
        "null_space = sp.linalg.null_space(A_sub.get())  # get() brings data to CPU for null space\n",
        "print(\"Rank of A:\", rank_A)\n",
        "print(\"Null space of A:\\n\", null_space, \"\\n\")\n",
        "\n",
        "# 11. Special Matrices\n",
        "diag_matrix = cp.diag(cp.array([1,2,3], dtype=cp.float32))\n",
        "sym_matrix = cp.array([[2,1],[1,2]], dtype=cp.float32)\n",
        "orth_matrix = cp.array([[1,0],[0,-1]], dtype=cp.float32)\n",
        "sparse_matrix = cp.array([[0,0,3],[0,0,0],[4,0,0]], dtype=cp.float32)\n",
        "\n",
        "print(\"Diagonal Matrix:\\n\", diag_matrix)\n",
        "print(\"Symmetric Matrix:\\n\", sym_matrix)\n",
        "print(\"Orthogonal Matrix:\\n\", orth_matrix)\n",
        "print(\"Sparse Matrix:\\n\", sparse_matrix)"
      ],
      "metadata": {
        "colab": {
          "base_uri": "https://localhost:8080/"
        },
        "id": "TP42aHSNAjfB",
        "outputId": "322c4bbb-9e14-4c5b-cf3b-2c7d69bf9541"
      },
      "execution_count": 24,
      "outputs": [
        {
          "output_type": "stream",
          "name": "stdout",
          "text": [
            "Overwriting gpu_linear_algebra.py\n"
          ]
        }
      ]
    },
    {
      "cell_type": "code",
      "source": [
        "!python gpu_linear_algebra.py"
      ],
      "metadata": {
        "colab": {
          "base_uri": "https://localhost:8080/"
        },
        "id": "DnO6DePnApxE",
        "outputId": "916c3c43-361e-4719-fbbe-e45ccb93e7b0"
      },
      "execution_count": 25,
      "outputs": [
        {
          "output_type": "stream",
          "name": "stdout",
          "text": [
            "=== Linear Algebra Concepts on GPU using cuTENSOR/cuBLAS (via CuPy) ===\n",
            "\n",
            "Scalar: 3.0\n",
            "Vector: [1. 2. 3.]\n",
            "Matrix:\n",
            " [[1. 2. 3.]\n",
            " [4. 5. 6.]\n",
            " [7. 8. 9.]]\n",
            "Tensor shape: (3, 3, 3) \n",
            "\n",
            "Vector Addition: [5. 7. 9.]\n",
            "Vector Subtraction: [-3. -3. -3.]\n",
            "Scalar Multiplication: [2. 4. 6.]\n",
            "Dot Product: 32.0\n",
            "Cross Product: [-3.  6. -3.] \n",
            "\n",
            "Matrix Addition:\n",
            " [[ 6.  8.]\n",
            " [10. 12.]]\n",
            "Matrix Subtraction:\n",
            " [[-4. -4.]\n",
            " [-4. -4.]]\n",
            "Matrix Scalar Multiplication:\n",
            " [[2. 4.]\n",
            " [6. 8.]]\n",
            "Matrix Multiplication:\n",
            " [[19. 22.]\n",
            " [43. 50.]]\n",
            "Matrix Transpose:\n",
            " [[1. 3.]\n",
            " [2. 4.]]\n",
            "Identity Matrix:\n",
            " [[1. 0.]\n",
            " [0. 1.]]\n",
            "Inverse Matrix:\n",
            " [[-2.   1. ]\n",
            " [ 1.5 -0.5]]\n",
            "Determinant: -2.0\n",
            "Normalized Matrix (columns):\n",
            " [[0.31622776 0.4472136 ]\n",
            " [0.94868326 0.8944272 ]] \n",
            "\n",
            "Euclidean Distance: 5.196152\n",
            "Manhattan Distance: 9.0\n",
            "Cosine Similarity: 0.9746318 \n",
            "\n",
            "Solution of Ax=b: [2. 3.] \n",
            "\n",
            "Linear Transformation (Rotation) of vector: [0. 1.] \n",
            "\n",
            "Eigenvalues: [2. 3.]\n",
            "Eigenvectors:\n",
            " [[1. 0.]\n",
            " [0. 1.]] \n",
            "\n",
            "QR Decomposition Q:\n",
            " [[-0.3162278  -0.9486833 ]\n",
            " [-0.9486833   0.31622773]]\n",
            "QR Decomposition R:\n",
            " [[-3.1622777 -4.4271884]\n",
            " [ 0.        -0.6324552]]\n",
            "SVD U:\n",
            " [[-0.4045536  0.9145143]\n",
            " [-0.9145143 -0.4045536]]\n",
            "SVD S:\n",
            " [5.4649854 0.3659662]\n",
            "SVD V^T:\n",
            " [[-0.5760484  -0.81741554]\n",
            " [-0.81741554  0.57604843]] \n",
            "\n",
            "Dot Product of orthogonal vectors: 0.0\n",
            "Projection of u onto v: [0. 0.] \n",
            "\n",
            "Rank of A: 2\n",
            "Null space of A:\n",
            " [[ 0.7715168 ]\n",
            " [-0.6172133 ]\n",
            " [ 0.15430336]] \n",
            "\n",
            "Diagonal Matrix:\n",
            " [[1. 0. 0.]\n",
            " [0. 2. 0.]\n",
            " [0. 0. 3.]]\n",
            "Symmetric Matrix:\n",
            " [[2. 1.]\n",
            " [1. 2.]]\n",
            "Orthogonal Matrix:\n",
            " [[ 1.  0.]\n",
            " [ 0. -1.]]\n",
            "Sparse Matrix:\n",
            " [[0. 0. 3.]\n",
            " [0. 0. 0.]\n",
            " [4. 0. 0.]]\n"
          ]
        }
      ]
    },
    {
      "cell_type": "code",
      "source": [],
      "metadata": {
        "id": "J79frtSOLDtr"
      },
      "execution_count": null,
      "outputs": []
    }
  ]
}